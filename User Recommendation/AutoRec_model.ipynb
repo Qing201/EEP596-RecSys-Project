{
 "cells": [
  {
   "cell_type": "code",
   "execution_count": null,
   "metadata": {},
   "outputs": [],
   "source": [
    "from collections import OrderedDict\n",
    "import torch\n",
    "from torch import nn\n",
    "\n",
    "# AutoEncoder\n",
    "class AutoEncoder(nn.Module):\n",
    "    def __init__(self, hidden, dropout=0.1):\n",
    "        super(AutoEncoder, self).__init__()\n",
    "        d1 = OrderedDict()\n",
    "        for i in range(len(hidden)-1):\n",
    "            d1['enc_linear' + str(i)] = nn.Linear(hidden[i], hidden[i + 1])#nn.Linear(input,out,bias=True)\n",
    "            #d1['enc_bn' + str(i)] = nn.BatchNorm1d(hidden[i+1])           含偏置项！\n",
    "            d1['enc_drop' + str(i)] = nn.Dropout(dropout)\n",
    "            d1['enc_relu'+str(i)] = nn.ReLU() \n",
    "        self.encoder = nn.Sequential(d1)\n",
    "        d2 = OrderedDict()#顺序排序\n",
    "        for i in range(len(hidden) - 1, 0, -1):\n",
    "            d2['dec_linear' + str(i)] = nn.Linear(hidden[i], hidden[i - 1])\n",
    "            #d2['dec_bn' + str(i)] = nn.BatchNorm1d(hidden[i - 1])\n",
    "            d2['dec_drop' + str(i)] = nn.Dropout(dropout)#0.1的概率舍弃神经元，避免过拟合\n",
    "            d2['dec_relu' + str(i)] = nn.Sigmoid()\n",
    "        self.decoder = nn.Sequential(d2)\n",
    "\n",
    "    def forward(self, x):\n",
    "        #进行一种“归一化”\n",
    "        x = (x-1)/4.0\n",
    "        x = self.decoder(self.encoder(x))\n",
    "        x = torch.clamp(x, 0, 1.0)#torch.clamp(input, min, max)\n",
    "        x = x * 4.0 + 1\n",
    "        return x"
   ]
  }
 ],
 "metadata": {
  "kernelspec": {
   "display_name": "Python 3.9.12 ('main')",
   "language": "python",
   "name": "python3"
  },
  "language_info": {
   "name": "python",
   "version": "3.9.12"
  },
  "orig_nbformat": 4,
  "vscode": {
   "interpreter": {
    "hash": "daf302ee44f1a774dac5ffd3a70ddee2099eff9a71d31c63aef06c6b735ae96f"
   }
  }
 },
 "nbformat": 4,
 "nbformat_minor": 2
}
